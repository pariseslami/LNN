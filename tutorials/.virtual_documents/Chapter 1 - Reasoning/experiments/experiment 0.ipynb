














from lnn import Proposition, And, Implies, Iff, Fact, Model, Or

A = Proposition('A')  
B = Proposition('B')  
C = Proposition('C')  
D = Proposition('D')  
E = Proposition('E')  


AB = Implies(A, B)
CD = And(C, D)
CDE = Iff(CD, E)
root = And(AB, CDE)

# Knowledge
Model = Model()
Model.add_knowledge(root)


# Data
root.add_data(Fact.TRUE)
A.add_data((0.2, 0.2)) 
C.add_data(Fact.TRUE)  
E.add_data((0.3, 0.7))

# Reasoning
Model.infer()
root.print()

root.downward()

A.print()
B.print()
C.print()
D.print()
E.print()





def query_state(node):
    round_off = lambda my_list: [float(f"{_:.1f}") for _ in my_list]
    return f"{node.state().name}: {tuple(round_off(node.get_data().tolist()))}"





query = Or(B,D,E)
query.upward()
query_state(query)



